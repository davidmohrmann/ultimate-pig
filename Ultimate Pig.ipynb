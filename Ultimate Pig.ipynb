{
 "cells": [
  {
   "cell_type": "code",
   "execution_count": 1,
   "metadata": {
    "collapsed": true
   },
   "outputs": [],
   "source": [
    "%matplotlib inline"
   ]
  },
  {
   "cell_type": "code",
   "execution_count": 2,
   "metadata": {
    "collapsed": true
   },
   "outputs": [],
   "source": [
    "import math\n",
    "import random\n",
    "import statistics\n",
    "import matplotlib.pyplot as plt"
   ]
  },
  {
   "cell_type": "code",
   "execution_count": 14,
   "metadata": {
    "collapsed": false
   },
   "outputs": [
    {
     "name": "stdout",
     "output_type": "stream",
     "text": [
      "The aggressive player got 23 points.\n",
      "The cautious player got 15 points.\n",
      "The dumb player got 14 points.\n"
     ]
    }
   ],
   "source": [
    "def roll():\n",
    "    \"\"\"This function will randomly select a number from 1 - 6, the amount of\n",
    "    faces on a dice\"\"\"  # part of the game function\n",
    "    return random.randint(1, 6)\n",
    "\n",
    "\n",
    "class Player():\n",
    "    def __init__(self):\n",
    "        # player starts with 0 points\n",
    "        # all the players share the attribute that they start with 0 points\n",
    "        self.points = 0\n",
    "        # all the players share the attribute that they haven't rolled the dice\n",
    "        self.count = 0\n",
    "\n",
    "    def begin_round(self):\n",
    "        \"\"\"This function will start the round by using the points and the rolls\n",
    "        that the player had from his previous round.\"\"\"\n",
    "        self.points = 0\n",
    "        self.count = 0\n",
    "\n",
    "    def will_roll(self):\n",
    "        \"\"\"This function will be the player's logic to roll. The base\n",
    "        player will roll only one time.\"\"\"\n",
    "        # since the base player will only roll one time, return False.\n",
    "        return False\n",
    "\n",
    "    def roll_dice(self):\n",
    "        # call the function to begin the round\n",
    "        self.begin_round()\n",
    "        # a while loop will continue to run for all the subclasses until breaks\n",
    "        while True:\n",
    "            rolling = roll()\n",
    "            # increment number of rolls by one\n",
    "            self.count += 1\n",
    "\n",
    "            if rolling == 1:\n",
    "                break\n",
    "            else:\n",
    "                self.points += 1\n",
    "\n",
    "            if not self.will_roll():\n",
    "                break\n",
    "\n",
    "        return self.points\n",
    "\n",
    "\n",
    "class Game:\n",
    "    results_list = \n",
    "    def __init__(self, player):\n",
    "        self.player = player\n",
    "\n",
    "    def play_game(self):\n",
    "        total_points = 0\n",
    "\n",
    "        for _ in range(7):\n",
    "            total_points += self.player.roll_dice()\n",
    "\n",
    "        return total_points\n",
    "    \n",
    "    \n",
    "\n",
    "\n",
    "class Aggressive(Player):\n",
    "    def will_roll(self):\n",
    "        \"\"\"the dumb player will continue to roll the dice no matter what the points\n",
    "        or the count of the game.\"\"\"\n",
    "        return self.points < 13\n",
    "\n",
    "class Cautious(Player):\n",
    "    def will_roll(self):\n",
    "        return self.count < 3\n",
    "\n",
    "class Dumb(Player):\n",
    "    def will_roll(self):\n",
    "        return self.count < 2\n",
    "\n",
    "game = Game(Aggressive())\n",
    "print(\"The aggressive player got {} points.\".format(game.play_game()))\n",
    "game = Game(Cautious())\n",
    "print(\"The cautious player got {} points.\".format(game.play_game()))\n",
    "game = Game(Dumb())\n",
    "print(\"The dumb player got {} points.\".format(game.play_game()))\n"
   ]
  },
  {
   "cell_type": "code",
   "execution_count": null,
   "metadata": {
    "collapsed": true
   },
   "outputs": [],
   "source": []
  }
 ],
 "metadata": {
  "kernelspec": {
   "display_name": "Python 3",
   "language": "python",
   "name": "python3"
  },
  "language_info": {
   "codemirror_mode": {
    "name": "ipython",
    "version": 3
   },
   "file_extension": ".py",
   "mimetype": "text/x-python",
   "name": "python",
   "nbconvert_exporter": "python",
   "pygments_lexer": "ipython3",
   "version": "3.5.1"
  }
 },
 "nbformat": 4,
 "nbformat_minor": 0
}
